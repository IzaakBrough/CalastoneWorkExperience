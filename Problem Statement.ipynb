{
 "cells": [
  {
   "cell_type": "markdown",
   "id": "5bb07c7a",
   "metadata": {},
   "source": [
    "## Your Task\n",
    "\n",
    "We've been collecting some structured data that represents people's personal debit card spending. \n",
    "\n",
    "At Calastone we're looking to build a simple app to analyse some of the individual spending data we've collected.\n",
    "\n",
    "Your app should visualise some part of this data, and use that visualisation to make some inference or recommendation.\n",
    "\n",
    "## Our Data\n",
    "\n",
    "- **100 People**: Anonymised names with varied income profiles\n",
    "- **50+ UK Retailers**: Real UK outlets including Tesco, Sainsbury's, Shell, Netflix, Amazon, and more\n",
    "- **Categorized Transactions**: Organized into categories like Groceries, Bills, Transport, Entertainment, etc.\n",
    "- **Realistic Housing Costs**: Mortgage/rent payments assigned based on income (higher earners more likely to have mortgages)\n",
    "- **Large One-Off Expenses**: Realistic big-ticket items like holidays, car purchases, home repairs that can blow monthly budgets\n",
    "- **Realistic Spending Patterns**: Some people overspend, others save, creating realistic financial behavior\n",
    "- **3-Year Data Range**: Comprehensive data from January 2023 to December 2025\n",
    "\n",
    "### Included Retailers & Categories\n",
    "\n",
    "#### Groceries\n",
    "- Tesco, Sainsbury's, ASDA, Morrisons, Waitrose, Lidl, Aldi, Co-op\n",
    "\n",
    "#### Transport\n",
    "- Shell, BP, Esso Petrol stations\n",
    "- National Rail, London Underground, Bus services\n",
    "- Uber\n",
    "\n",
    "#### Bills & Housing\n",
    "- British Gas, EDF Energy (utilities)\n",
    "- Thames Water\n",
    "- BT Broadband, Sky TV\n",
    "- Council Tax, Insurance\n",
    "- **Mortgage/Rent Payments** (assigned based on income level)\n",
    "- Buildings Insurance, Service Charges\n",
    "\n",
    "#### Entertainment\n",
    "- Netflix, Amazon Prime, Spotify, Disney+\n",
    "- Odeon & Vue Cinemas\n",
    "\n",
    "#### Eating Out\n",
    "- McDonald's, KFC, Nando's, Pizza Express, Prezzo\n",
    "- Costa Coffee, Starbucks, Local Pubs\n",
    "\n",
    "#### Shopping\n",
    "- Amazon, John Lewis, M&S, Next, H&M, Zara\n",
    "- Argos, Currys PC World\n",
    "\n",
    "#### Health\n",
    "- Boots, Superdrug, Local Pharmacy\n",
    "\n",
    "#### Large One-Off Expenses\n",
    "- **Holiday Bookings** (£800-4500)\n",
    "- **Car Purchases** (£3000-25000)\n",
    "- **Home Repairs** (roof, boiler, etc.)\n",
    "- **Medical/Dental Treatment**\n",
    "- **School Trips & University Fees**\n",
    "- **Wedding & Funeral Expenses**\n",
    "- **Emergency Repairs** (car, home appliances)\n",
    "- These can blow monthly budgets (~3-4 times per year per person)\n",
    "\n",
    "## Our Technology Capabilities\n",
    "\n",
    "* Using SQL to extract parts of this data\n",
    "* Using C# to make calculations with this data\n",
    "* Using Javascript graphing libraries to plot points on this data"
   ]
  }
 ],
 "metadata": {
  "kernelspec": {
   "display_name": ".NET (C#)",
   "language": "C#",
   "name": ".net-csharp"
  },
  "language_info": {
   "name": "polyglot-notebook"
  },
  "polyglot_notebook": {
   "kernelInfo": {
    "defaultKernelName": "csharp",
    "items": [
     {
      "aliases": [],
      "languageName": "csharp",
      "name": "csharp"
     }
    ]
   }
  }
 },
 "nbformat": 4,
 "nbformat_minor": 5
}
