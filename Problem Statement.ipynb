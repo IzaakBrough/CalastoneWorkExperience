{
 "cells": [
  {
   "cell_type": "markdown",
   "id": "5bb07c7a",
   "metadata": {},
   "source": [
    "## Your Task\n",
    "\n",
    "A client of Calastone's has been harvesting its users' transactional debit card spending (in a GDPR compliant way of course). The data is valuable. However, the client is not very clever, and they don't know how to get any insight from the data AT ALL. They have hired YOU to give them some interesting stats about the data. It seems like some people are responsible with their money and other people struggle to manage it. \n",
    "\n",
    "Along with this Calastone has interesting data about Mutual Funds. It contains weekly prices for real funds from 2020 until now and also some descriptive properties of each fund. It might be possible to work out the performance of a fund from the price data. \n",
    "\n",
    "Perhaps there is a way these two cool sources of data could be combined to help the client's customers, and also to make some money!\n",
    "\n",
    "Your app should visualize some part of this data, and use that visualization to make some inference or recommendation.\n",
    "\n",
    "# The Data Sources\n",
    "\n",
    "## The Debit Card Transaction Data\n",
    "- **100 People**: Anonymized names with varied income profiles\n",
    "- **50+ UK Retailers**: Real UK outlets including Tesco, Sainsbury's, Shell, Netflix, Amazon, and more\n",
    "- **Categorized Transactions**: Organized into categories like Groceries, Bills, Transport, Entertainment, etc.\n",
    "- **Realistic Housing Costs**: Mortgage/rent payments assigned based on income (higher earners more likely to have mortgages)\n",
    "- **Large One-Off Expenses**: Realistic big-ticket items like holidays, car purchases, home repairs that can blow monthly budgets\n",
    "- **Realistic Spending Patterns**: Some people overspend, others save, creating realistic financial behavior\n",
    "- **2.5-Year Data Range**: Comprehensive data from January 2023 to July 2025\n",
    "\n",
    "## The FundInfo Data\n",
    "- **This data will give you descriptive information about the fund** \n",
    "- **Name of the Fund**\n",
    "- **Roughly what the fund is invested in**\n",
    "\n",
    "## The Price Data\n",
    "- **This data can help you determine the performance of a fund. Did it make money or not?**\n",
    "- **~20,000 real funds**\n",
    "- **Actual Price Information**\n",
    "\n",
    "\n",
    "## Our Technology Capabilities\n",
    "\n",
    "* Using SQL to extract parts of this data\n",
    "* Using C# to make calculations with this data\n",
    "* Using JavaScript graphing libraries to plot points on this data\n",
    "\n",
    "## Places to start - Data Exploration\n",
    "\n",
    "### Personal Finance Questions\n",
    "- Connect to the database and look at the data\n",
    "- How much did all people spend in 2023?\n",
    "- Who spent the most on Entertainment?\n",
    "- Who bought the most expensive car this year?\n",
    "- Who earned the most in 2024?\n",
    "- What was the average income in the dataset?\n",
    "- How could we spot someone who has money available to invest?\n",
    "- Who had the most left in their savings?\n",
    "- If you looked at someone's bank statement, what would make you think \"this person is good with money\"?\n",
    "- Who was the best budgeter? Not who saved the most, but who saved the largest proportion of their income?\n",
    "- What is the average income of the people who had positive savings?\n",
    "\n",
    "### Fund Information\n",
    "- Look at the FundInfo data - What are the different types of funds that exist in the dataset?\n",
    "- Which Fund Manager (FundGroupName) trades the most ISINs?\n",
    "- Pick a fund with a cool sounding name - using the price information, calculate the performance over the time period. i.e. did the price go up or down? By how much?\n",
    "- Can you plot this on a graph?\n",
    "- Look up this fund on the internet and see what you can find out about it\n",
    "- What is the best performing fund?\n",
    "- What are the 10 largest holdings within the best performing fund?\n",
    "- Can we see the top 50 best performing funds?\n",
    "\n",
    "### Questions to help you \n",
    "- What story does the spending data tell us about each person?\n",
    "- Which customers would be most valuable to us - high savers or high spenders?\n",
    "- What should we do for these people?\n",
    "- How might we determine which funds we might want to market to people?\n",
    "- What would convince YOU to start investing if you saw it on a screen?\n",
    "- What factors would govern our decision in this area? Customer reviews vs relationships with particular Fund Managers\n",
    "- What might work well in the short term vs what might work well in the long term?"
   ]
  }
 ],
 "metadata": {
  "kernelspec": {
   "display_name": ".NET (C#)",
   "language": "C#",
   "name": ".net-csharp"
  },
  "language_info": {
   "name": "polyglot-notebook"
  },
  "polyglot_notebook": {
   "kernelInfo": {
    "defaultKernelName": "csharp",
    "items": [
     {
      "aliases": [],
      "languageName": "csharp",
      "name": "csharp"
     }
    ]
   }
  }
 },
 "nbformat": 4,
 "nbformat_minor": 5
}
