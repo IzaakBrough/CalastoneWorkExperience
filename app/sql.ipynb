{
 "cells": [
  {
   "cell_type": "code",
   "execution_count": 9,
   "id": "f76aaf2b",
   "metadata": {
    "language_info": {
     "name": "polyglot-notebook"
    },
    "polyglot_notebook": {
     "kernelName": "csharp"
    }
   },
   "outputs": [
    {
     "data": {
      "text/html": [
       "<div><div></div><div></div><div><strong>Installed Packages</strong><ul><li><span>Microsoft.DotNet.Interactive.SqlServer, 1.0.0-beta.25323.1</span></li></ul></div></div>"
      ]
     },
     "metadata": {},
     "output_type": "display_data"
    }
   ],
   "source": [
    "using System.IO;\n",
    "var connectionString = await File.ReadAllTextAsync(\"C:\\\\\\\\Temp\\\\BestFunds.txt\");\n",
    "#r \"nuget: Microsoft.DotNet.Interactive.SqlServer, *-*\"\n"
   ]
  },
  {
   "cell_type": "code",
   "execution_count": 11,
   "id": "8c43a55d",
   "metadata": {
    "language_info": {
     "name": "polyglot-notebook"
    },
    "polyglot_notebook": {
     "kernelName": "csharp"
    }
   },
   "outputs": [
    {
     "ename": "Error",
     "evalue": "System.InvalidOperationException: A kernel with name BestFunds is already present. Use a different value for the --kernel-name parameter.\r\n   at Microsoft.DotNet.Interactive.SqlServer.ConnectMsSqlDirective.ConnectKernelsAsync(ConnectMsSqlKernel connectCommand, KernelInvocationContext context)\r\n   at Microsoft.DotNet.Interactive.CompositeKernel.ConnectKernels[TCommand](TCommand command, ConnectKernelDirective`1 connectDirective, KernelInvocationContext context) in D:\\a\\_work\\1\\s\\src\\Microsoft.DotNet.Interactive\\CompositeKernel.cs:line 275\r\n   at Microsoft.DotNet.Interactive.CompositeKernel.<>c__DisplayClass21_0`1.<<AddConnectDirective>b__0>d.MoveNext() in D:\\a\\_work\\1\\s\\src\\Microsoft.DotNet.Interactive\\CompositeKernel.cs:line 260\r\n--- End of stack trace from previous location ---\r\n   at Microsoft.DotNet.Interactive.Kernel.HandleAsync(KernelCommand command, KernelInvocationContext context) in D:\\a\\_work\\1\\s\\src\\Microsoft.DotNet.Interactive\\Kernel.cs:line 371\r\n   at Microsoft.DotNet.Interactive.CompositeKernel.HandleAsync(KernelCommand command, KernelInvocationContext context) in D:\\a\\_work\\1\\s\\src\\Microsoft.DotNet.Interactive\\CompositeKernel.cs:line 216\r\n   at Microsoft.DotNet.Interactive.KernelCommandPipeline.<BuildPipeline>b__6_0(KernelCommand command, KernelInvocationContext context, KernelPipelineContinuation _) in D:\\a\\_work\\1\\s\\src\\Microsoft.DotNet.Interactive\\KernelCommandPipeline.cs:line 60\r\n   at Microsoft.DotNet.Interactive.KernelCommandPipeline.<>c__DisplayClass6_1.<<BuildPipeline>b__3>d.MoveNext() in D:\\a\\_work\\1\\s\\src\\Microsoft.DotNet.Interactive\\KernelCommandPipeline.cs:line 75\r\n--- End of stack trace from previous location ---\r\n   at Microsoft.DotNet.Interactive.App.KernelExtensions.<>c__DisplayClass6_0.<<UseTelemetrySender>b__0>d.MoveNext() in D:\\a\\_work\\1\\s\\src\\dotnet-interactive\\KernelExtensions.cs:line 457\r\n--- End of stack trace from previous location ---\r\n   at Microsoft.DotNet.Interactive.KernelCommandPipeline.<>c__DisplayClass6_1.<<BuildPipeline>b__3>d.MoveNext() in D:\\a\\_work\\1\\s\\src\\Microsoft.DotNet.Interactive\\KernelCommandPipeline.cs:line 75\r\n--- End of stack trace from previous location ---\r\n   at Microsoft.DotNet.Interactive.App.KernelExtensionLoader.<>c__DisplayClass0_0.<<UseNuGetExtensions>b__0>d.MoveNext() in D:\\a\\_work\\1\\s\\src\\dotnet-interactive\\KernelExtensionLoader.cs:line 25\r\n--- End of stack trace from previous location ---\r\n   at Microsoft.DotNet.Interactive.KernelCommandPipeline.<>c__DisplayClass6_1.<<BuildPipeline>b__3>d.MoveNext() in D:\\a\\_work\\1\\s\\src\\Microsoft.DotNet.Interactive\\KernelCommandPipeline.cs:line 75\r\n--- End of stack trace from previous location ---\r\n   at Microsoft.DotNet.Interactive.App.KernelExtensions.<>c__DisplayClass5_0.<<UseSecretManager>b__0>d.MoveNext() in D:\\a\\_work\\1\\s\\src\\dotnet-interactive\\KernelExtensions.cs:line 388\r\n--- End of stack trace from previous location ---\r\n   at Microsoft.DotNet.Interactive.KernelCommandPipeline.<>c__DisplayClass6_0.<<BuildPipeline>g__Combine|2>d.MoveNext() in D:\\a\\_work\\1\\s\\src\\Microsoft.DotNet.Interactive\\KernelCommandPipeline.cs:line 73\r\n--- End of stack trace from previous location ---\r\n   at Microsoft.DotNet.Interactive.KernelCommandPipeline.<>c__DisplayClass6_0.<<BuildPipeline>g__Combine|2>d.MoveNext() in D:\\a\\_work\\1\\s\\src\\Microsoft.DotNet.Interactive\\KernelCommandPipeline.cs:line 73\r\n--- End of stack trace from previous location ---\r\n   at Microsoft.DotNet.Interactive.KernelCommandPipeline.<>c__DisplayClass6_0.<<BuildPipeline>g__Combine|2>d.MoveNext() in D:\\a\\_work\\1\\s\\src\\Microsoft.DotNet.Interactive\\KernelCommandPipeline.cs:line 73\r\n--- End of stack trace from previous location ---\r\n   at Microsoft.DotNet.Interactive.KernelCommandPipeline.SendAsync(KernelCommand command, KernelInvocationContext context) in D:\\a\\_work\\1\\s\\src\\Microsoft.DotNet.Interactive\\KernelCommandPipeline.cs:line 41",
     "output_type": "error",
     "traceback": [
      "System.InvalidOperationException: A kernel with name BestFunds is already present. Use a different value for the --kernel-name parameter.\r\n",
      "   at Microsoft.DotNet.Interactive.SqlServer.ConnectMsSqlDirective.ConnectKernelsAsync(ConnectMsSqlKernel connectCommand, KernelInvocationContext context)\r\n",
      "   at Microsoft.DotNet.Interactive.CompositeKernel.ConnectKernels[TCommand](TCommand command, ConnectKernelDirective`1 connectDirective, KernelInvocationContext context) in D:\\a\\_work\\1\\s\\src\\Microsoft.DotNet.Interactive\\CompositeKernel.cs:line 275\r\n",
      "   at Microsoft.DotNet.Interactive.CompositeKernel.<>c__DisplayClass21_0`1.<<AddConnectDirective>b__0>d.MoveNext() in D:\\a\\_work\\1\\s\\src\\Microsoft.DotNet.Interactive\\CompositeKernel.cs:line 260\r\n",
      "--- End of stack trace from previous location ---\r\n",
      "   at Microsoft.DotNet.Interactive.Kernel.HandleAsync(KernelCommand command, KernelInvocationContext context) in D:\\a\\_work\\1\\s\\src\\Microsoft.DotNet.Interactive\\Kernel.cs:line 371\r\n",
      "   at Microsoft.DotNet.Interactive.CompositeKernel.HandleAsync(KernelCommand command, KernelInvocationContext context) in D:\\a\\_work\\1\\s\\src\\Microsoft.DotNet.Interactive\\CompositeKernel.cs:line 216\r\n",
      "   at Microsoft.DotNet.Interactive.KernelCommandPipeline.<BuildPipeline>b__6_0(KernelCommand command, KernelInvocationContext context, KernelPipelineContinuation _) in D:\\a\\_work\\1\\s\\src\\Microsoft.DotNet.Interactive\\KernelCommandPipeline.cs:line 60\r\n",
      "   at Microsoft.DotNet.Interactive.KernelCommandPipeline.<>c__DisplayClass6_1.<<BuildPipeline>b__3>d.MoveNext() in D:\\a\\_work\\1\\s\\src\\Microsoft.DotNet.Interactive\\KernelCommandPipeline.cs:line 75\r\n",
      "--- End of stack trace from previous location ---\r\n",
      "   at Microsoft.DotNet.Interactive.App.KernelExtensions.<>c__DisplayClass6_0.<<UseTelemetrySender>b__0>d.MoveNext() in D:\\a\\_work\\1\\s\\src\\dotnet-interactive\\KernelExtensions.cs:line 457\r\n",
      "--- End of stack trace from previous location ---\r\n",
      "   at Microsoft.DotNet.Interactive.KernelCommandPipeline.<>c__DisplayClass6_1.<<BuildPipeline>b__3>d.MoveNext() in D:\\a\\_work\\1\\s\\src\\Microsoft.DotNet.Interactive\\KernelCommandPipeline.cs:line 75\r\n",
      "--- End of stack trace from previous location ---\r\n",
      "   at Microsoft.DotNet.Interactive.App.KernelExtensionLoader.<>c__DisplayClass0_0.<<UseNuGetExtensions>b__0>d.MoveNext() in D:\\a\\_work\\1\\s\\src\\dotnet-interactive\\KernelExtensionLoader.cs:line 25\r\n",
      "--- End of stack trace from previous location ---\r\n",
      "   at Microsoft.DotNet.Interactive.KernelCommandPipeline.<>c__DisplayClass6_1.<<BuildPipeline>b__3>d.MoveNext() in D:\\a\\_work\\1\\s\\src\\Microsoft.DotNet.Interactive\\KernelCommandPipeline.cs:line 75\r\n",
      "--- End of stack trace from previous location ---\r\n",
      "   at Microsoft.DotNet.Interactive.App.KernelExtensions.<>c__DisplayClass5_0.<<UseSecretManager>b__0>d.MoveNext() in D:\\a\\_work\\1\\s\\src\\dotnet-interactive\\KernelExtensions.cs:line 388\r\n",
      "--- End of stack trace from previous location ---\r\n",
      "   at Microsoft.DotNet.Interactive.KernelCommandPipeline.<>c__DisplayClass6_0.<<BuildPipeline>g__Combine|2>d.MoveNext() in D:\\a\\_work\\1\\s\\src\\Microsoft.DotNet.Interactive\\KernelCommandPipeline.cs:line 73\r\n",
      "--- End of stack trace from previous location ---\r\n",
      "   at Microsoft.DotNet.Interactive.KernelCommandPipeline.<>c__DisplayClass6_0.<<BuildPipeline>g__Combine|2>d.MoveNext() in D:\\a\\_work\\1\\s\\src\\Microsoft.DotNet.Interactive\\KernelCommandPipeline.cs:line 73\r\n",
      "--- End of stack trace from previous location ---\r\n",
      "   at Microsoft.DotNet.Interactive.KernelCommandPipeline.<>c__DisplayClass6_0.<<BuildPipeline>g__Combine|2>d.MoveNext() in D:\\a\\_work\\1\\s\\src\\Microsoft.DotNet.Interactive\\KernelCommandPipeline.cs:line 73\r\n",
      "--- End of stack trace from previous location ---\r\n",
      "   at Microsoft.DotNet.Interactive.KernelCommandPipeline.SendAsync(KernelCommand command, KernelInvocationContext context) in D:\\a\\_work\\1\\s\\src\\Microsoft.DotNet.Interactive\\KernelCommandPipeline.cs:line 41"
     ]
    }
   ],
   "source": [
    "\n",
    "#!connect mssql --kernel-name BestFunds @csharp:connectionString"
   ]
  },
  {
   "cell_type": "markdown",
   "id": "48334d72",
   "metadata": {},
   "source": [
    "## Spending forecast\n",
    "\n",
    "This app will add up your spending trends, and project into the future\n",
    "\n",
    "It'll tell you:\n",
    "\n",
    "* In 1 year how much money will you have\n",
    "* In 2 years\n",
    "* In 5 years"
   ]
  },
  {
   "cell_type": "code",
   "execution_count": 7,
   "id": "dbd7b389",
   "metadata": {
    "language_info": {
     "name": "polyglot-notebook"
    },
    "polyglot_notebook": {
     "kernelName": "csharp"
    }
   },
   "outputs": [
    {
     "ename": "Error",
     "evalue": "(1,8): error CS1002: ; expected\r\n(2,19): error CS1002: ; expected\r\n(3,17): error CS1012: Too many characters in character literal\r\n(3,41): error CS1002: ; expected\r\n(5,4): error CS1002: ; expected\r\n(5,14): error CS1002: ; expected\r\n(6,13): error CS1002: ; expected\r\n(7,14): error CS1002: ; expected\r\n(8,16): error CS1002: ; expected\r\n(10,29): error CS1002: ; expected\r\n(10,40): error CS1001: Identifier expected\r\n(10,55): error CS1002: ; expected\r\n(10,84): error CS1002: ; expected\r\n(10,106): error CS1012: Too many characters in character literal\r\n(10,115): error CS1002: ; expected\r\n(11,28): error CS1002: ; expected\r\n(11,39): error CS1001: Identifier expected\r\n(11,54): error CS1002: ; expected\r\n(11,83): error CS1002: ; expected\r\n(11,105): error CS1012: Too many characters in character literal\r\n(11,113): error CS1002: ; expected\r\n(13,24): error CS1002: ; expected\r\n(15,14): error CS1002: ; expected\r\n(17,7): error CS1002: ; expected\r\n(17,7): error CS1012: Too many characters in character literal\r\n(17,37): error CS1003: Syntax error, ',' expected\r\n(17,40): error CS1003: Syntax error, ',' expected\r\n(19,9): error CS1002: ; expected\r\n(20,9): error CS1002: ; expected\r\n(21,14): error CS1002: ; expected\r\n(22,15): error CS1002: ; expected\r\n(24,18): error CS1002: ; expected\r\n(25,5): error CS1002: ; expected\r\n(25,16): error CS1012: Too many characters in character literal\r\n(29,23): error CS1002: ; expected\r\n(30,12): error CS1001: Identifier expected\r\n(30,26): error CS1002: ; expected\r\n(35,7): error CS1002: ; expected\r\n(35,7): error CS1012: Too many characters in character literal\r\n(35,36): error CS1003: Syntax error, ',' expected\r\n(35,39): error CS1003: Syntax error, ',' expected\r\n(36,7): error CS1002: ; expected\r\n(36,7): error CS1012: Too many characters in character literal\r\n(36,32): error CS1003: Syntax error, ',' expected\r\n(36,35): error CS1003: Syntax error, ',' expected\r\n(37,7): error CS1002: ; expected\r\n(37,7): error CS1012: Too many characters in character literal\r\n(37,31): error CS1003: Syntax error, ',' expected\r\n(37,34): error CS1003: Syntax error, ',' expected\r\n(37,45): error CS1012: Too many characters in character literal\r\n(37,82): error CS1003: Syntax error, ',' expected\r\n(37,85): error CS1003: Syntax error, ',' expected\r\n(39,14): error CS1002: ; expected\r\n(41,7): error CS1002: ; expected\r\n(41,7): error CS1012: Too many characters in character literal\r\n(41,39): error CS1003: Syntax error, ',' expected\r\n(41,42): error CS1003: Syntax error, ',' expected",
     "output_type": "error",
     "traceback": [
      "(1,8): error CS1002: ; expected\r\n",
      "(2,19): error CS1002: ; expected\r\n",
      "(3,17): error CS1012: Too many characters in character literal\r\n",
      "(3,41): error CS1002: ; expected\r\n",
      "(5,4): error CS1002: ; expected\r\n",
      "(5,14): error CS1002: ; expected\r\n",
      "(6,13): error CS1002: ; expected\r\n",
      "(7,14): error CS1002: ; expected\r\n",
      "(8,16): error CS1002: ; expected\r\n",
      "(10,29): error CS1002: ; expected\r\n",
      "(10,40): error CS1001: Identifier expected\r\n",
      "(10,55): error CS1002: ; expected\r\n",
      "(10,84): error CS1002: ; expected\r\n",
      "(10,106): error CS1012: Too many characters in character literal\r\n",
      "(10,115): error CS1002: ; expected\r\n",
      "(11,28): error CS1002: ; expected\r\n",
      "(11,39): error CS1001: Identifier expected\r\n",
      "(11,54): error CS1002: ; expected\r\n",
      "(11,83): error CS1002: ; expected\r\n",
      "(11,105): error CS1012: Too many characters in character literal\r\n",
      "(11,113): error CS1002: ; expected\r\n",
      "(13,24): error CS1002: ; expected\r\n",
      "(15,14): error CS1002: ; expected\r\n",
      "(17,7): error CS1002: ; expected\r\n",
      "(17,7): error CS1012: Too many characters in character literal\r\n",
      "(17,37): error CS1003: Syntax error, ',' expected\r\n",
      "(17,40): error CS1003: Syntax error, ',' expected\r\n",
      "(19,9): error CS1002: ; expected\r\n",
      "(20,9): error CS1002: ; expected\r\n",
      "(21,14): error CS1002: ; expected\r\n",
      "(22,15): error CS1002: ; expected\r\n",
      "(24,18): error CS1002: ; expected\r\n",
      "(25,5): error CS1002: ; expected\r\n",
      "(25,16): error CS1012: Too many characters in character literal\r\n",
      "(29,23): error CS1002: ; expected\r\n",
      "(30,12): error CS1001: Identifier expected\r\n",
      "(30,26): error CS1002: ; expected\r\n",
      "(35,7): error CS1002: ; expected\r\n",
      "(35,7): error CS1012: Too many characters in character literal\r\n",
      "(35,36): error CS1003: Syntax error, ',' expected\r\n",
      "(35,39): error CS1003: Syntax error, ',' expected\r\n",
      "(36,7): error CS1002: ; expected\r\n",
      "(36,7): error CS1012: Too many characters in character literal\r\n",
      "(36,32): error CS1003: Syntax error, ',' expected\r\n",
      "(36,35): error CS1003: Syntax error, ',' expected\r\n",
      "(37,7): error CS1002: ; expected\r\n",
      "(37,7): error CS1012: Too many characters in character literal\r\n",
      "(37,31): error CS1003: Syntax error, ',' expected\r\n",
      "(37,34): error CS1003: Syntax error, ',' expected\r\n",
      "(37,45): error CS1012: Too many characters in character literal\r\n",
      "(37,82): error CS1003: Syntax error, ',' expected\r\n",
      "(37,85): error CS1003: Syntax error, ',' expected\r\n",
      "(39,14): error CS1002: ; expected\r\n",
      "(41,7): error CS1002: ; expected\r\n",
      "(41,7): error CS1012: Too many characters in character literal\r\n",
      "(41,39): error CS1003: Syntax error, ',' expected\r\n",
      "(41,42): error CS1003: Syntax error, ',' expected"
     ]
    }
   ],
   "source": [
    "-- user\n",
    "DECLARE @UserName NVARCHAR(100);\n",
    "SET @UserName = 'Marie Hall'; -- Change this\n",
    "\n",
    "-- Net amount\n",
    "DECLARE @in DECIMAL(18,2);\n",
    "DECLARE @out DECIMAL(18,2);\n",
    "DECLARE @total DECIMAL(18,2);\n",
    "\n",
    "SELECT @out = SUM([Amount]) FROM [dbo].[Transactions] WHERE PersonName = @UserName AND TransactionType = 'expense'\n",
    "SELECT @in = SUM([Amount]) FROM [dbo].[Transactions] WHERE PersonName = @UserName AND TransactionType = 'income'\n",
    "\n",
    "SET @total = @in - @out\n",
    "\n",
    "SELECT @total\n",
    "\n",
    "PRINT 'Net ammount: ' + CAST(@total AS VARCHAR);\n",
    "\n",
    "-- Date ranges\n",
    "DECLARE @start DATE;\n",
    "DECLARE @end DATE;\n",
    "DECLARE @days INT;\n",
    "\n",
    "DECLARE @EndDate DATE\n",
    "SET @EndDate = '2030-07-01';\n",
    "\n",
    "SELECT \n",
    "    @start = MIN([Date]),\n",
    "    @end = MAX([Date])\n",
    "FROM [dbo].[Transactions]\n",
    "WHERE PersonName = @UserName;\n",
    "\n",
    "SET @days = DATEDIFF(DAY, @start, @end);\n",
    "\n",
    "PRINT 'Start Date: ' + CAST(@start AS VARCHAR);\n",
    "PRINT 'End Date: ' + CAST(@end AS VARCHAR);\n",
    "PRINT '# Days: ' + CAST(@days AS VARCHAR) + '      # Years: ' + CAST(@days / 365 AS VARCHAR);\n",
    "\n",
    "DECLARE @avg DECIMAL(18,2);\n",
    "SELECT @avg = @total / @days;\n",
    "PRINT 'Average per day: ' + CAST(@avg AS VARCHAR);"
   ]
  },
  {
   "cell_type": "code",
   "execution_count": 8,
   "id": "3c3cf82d",
   "metadata": {
    "language_info": {
     "name": "polyglot-notebook"
    },
    "polyglot_notebook": {
     "kernelName": "csharp"
    }
   },
   "outputs": [
    {
     "ename": "Error",
     "evalue": "(1,8): error CS1002: ; expected\r\n(2,19): error CS1002: ; expected\r\n(3,17): error CS1012: Too many characters in character literal\r\n(3,41): error CS1002: ; expected\r\n(5,4): error CS1002: ; expected\r\n(5,18): error CS1002: ; expected\r\n(7,16): error CS1031: Type expected\r\n(7,16): error CS1001: Identifier expected\r\n(7,18): error CS1002: ; expected\r\n(7,27): error CS1002: ; expected\r\n(7,27): error CS7017: Member definition, statement, or end-of-file expected\r\n(8,14): error CS1003: Syntax error, ',' expected\r\n(8,19): error CS1003: Syntax error, ',' expected\r\n(8,37): error CS1012: Too many characters in character literal\r\n(8,46): error CS1003: Syntax error, ',' expected\r\n(8,51): error CS1003: Syntax error, ',' expected\r\n(8,58): error CS1003: Syntax error, ',' expected\r\n(8,63): error CS1003: Syntax error, ',' expected\r\n(8,65): error CS1003: Syntax error, ',' expected\r\n(8,70): error CS1002: ; expected\r\n(8,85): error CS1001: Identifier expected\r\n(8,85): error CS1002: ; expected\r\n(9,15): error CS1003: Syntax error, ',' expected\r\n(9,20): error CS1003: Syntax error, ',' expected\r\n(9,38): error CS1012: Too many characters in character literal\r\n(9,48): error CS1003: Syntax error, ',' expected\r\n(9,53): error CS1003: Syntax error, ',' expected\r\n(9,60): error CS1003: Syntax error, ',' expected\r\n(9,65): error CS1003: Syntax error, ',' expected\r\n(9,67): error CS1003: Syntax error, ',' expected\r\n(9,72): error CS1002: ; expected\r\n(10,8): error CS1528: Expected ; or = (cannot specify constructor arguments in declaration)\r\n(10,8): error CS1003: Syntax error, '[' expected\r\n(10,14): error CS1003: Syntax error, ',' expected\r\n(10,19): error CS1003: Syntax error, ',' expected\r\n(10,37): error CS1012: Too many characters in character literal\r\n(10,46): error CS1003: Syntax error, ',' expected\r\n(10,51): error CS1003: Syntax error, ',' expected\r\n(10,58): error CS1003: Syntax error, ',' expected\r\n(10,63): error CS1003: Syntax error, ',' expected\r\n(10,65): error CS1003: Syntax error, ',' expected\r\n(10,68): error CS1003: Syntax error, ']' expected\r\n(10,70): error CS1002: ; expected\r\n(11,14): error CS1003: Syntax error, ',' expected\r\n(11,19): error CS1003: Syntax error, ',' expected\r\n(11,37): error CS1012: Too many characters in character literal\r\n(11,47): error CS1003: Syntax error, ',' expected\r\n(11,52): error CS1003: Syntax error, ',' expected\r\n(11,59): error CS1003: Syntax error, ',' expected\r\n(11,64): error CS1003: Syntax error, ',' expected\r\n(11,66): error CS1003: Syntax error, ',' expected\r\n(11,71): error CS1002: ; expected\r\n(11,83): error CS1002: ; expected\r\n(12,12): error CS1001: Identifier expected\r\n(12,26): error CS1002: ; expected\r\n(13,29): error CS1002: ; expected\r\n(14,10): error CS1002: ; expected\r\n(14,22): error CS1002: ; expected\r\n(15,10): error CS0650: Bad array declarator: To declare a managed array the rank specifier precedes the variable's identifier. To declare a fixed size buffer field, use the fixed keyword before the field type.\r\n(15,11): error CS0270: Array size cannot be specified in a variable declaration (try initializing with a 'new' expression)",
     "output_type": "error",
     "traceback": [
      "(1,8): error CS1002: ; expected\r\n",
      "(2,19): error CS1002: ; expected\r\n",
      "(3,17): error CS1012: Too many characters in character literal\r\n",
      "(3,41): error CS1002: ; expected\r\n",
      "(5,4): error CS1002: ; expected\r\n",
      "(5,18): error CS1002: ; expected\r\n",
      "(7,16): error CS1031: Type expected\r\n",
      "(7,16): error CS1001: Identifier expected\r\n",
      "(7,18): error CS1002: ; expected\r\n",
      "(7,27): error CS1002: ; expected\r\n",
      "(7,27): error CS7017: Member definition, statement, or end-of-file expected\r\n",
      "(8,14): error CS1003: Syntax error, ',' expected\r\n",
      "(8,19): error CS1003: Syntax error, ',' expected\r\n",
      "(8,37): error CS1012: Too many characters in character literal\r\n",
      "(8,46): error CS1003: Syntax error, ',' expected\r\n",
      "(8,51): error CS1003: Syntax error, ',' expected\r\n",
      "(8,58): error CS1003: Syntax error, ',' expected\r\n",
      "(8,63): error CS1003: Syntax error, ',' expected\r\n",
      "(8,65): error CS1003: Syntax error, ',' expected\r\n",
      "(8,70): error CS1002: ; expected\r\n",
      "(8,85): error CS1001: Identifier expected\r\n",
      "(8,85): error CS1002: ; expected\r\n",
      "(9,15): error CS1003: Syntax error, ',' expected\r\n",
      "(9,20): error CS1003: Syntax error, ',' expected\r\n",
      "(9,38): error CS1012: Too many characters in character literal\r\n",
      "(9,48): error CS1003: Syntax error, ',' expected\r\n",
      "(9,53): error CS1003: Syntax error, ',' expected\r\n",
      "(9,60): error CS1003: Syntax error, ',' expected\r\n",
      "(9,65): error CS1003: Syntax error, ',' expected\r\n",
      "(9,67): error CS1003: Syntax error, ',' expected\r\n",
      "(9,72): error CS1002: ; expected\r\n",
      "(10,8): error CS1528: Expected ; or = (cannot specify constructor arguments in declaration)\r\n",
      "(10,8): error CS1003: Syntax error, '[' expected\r\n",
      "(10,14): error CS1003: Syntax error, ',' expected\r\n",
      "(10,19): error CS1003: Syntax error, ',' expected\r\n",
      "(10,37): error CS1012: Too many characters in character literal\r\n",
      "(10,46): error CS1003: Syntax error, ',' expected\r\n",
      "(10,51): error CS1003: Syntax error, ',' expected\r\n",
      "(10,58): error CS1003: Syntax error, ',' expected\r\n",
      "(10,63): error CS1003: Syntax error, ',' expected\r\n",
      "(10,65): error CS1003: Syntax error, ',' expected\r\n",
      "(10,68): error CS1003: Syntax error, ']' expected\r\n",
      "(10,70): error CS1002: ; expected\r\n",
      "(11,14): error CS1003: Syntax error, ',' expected\r\n",
      "(11,19): error CS1003: Syntax error, ',' expected\r\n",
      "(11,37): error CS1012: Too many characters in character literal\r\n",
      "(11,47): error CS1003: Syntax error, ',' expected\r\n",
      "(11,52): error CS1003: Syntax error, ',' expected\r\n",
      "(11,59): error CS1003: Syntax error, ',' expected\r\n",
      "(11,64): error CS1003: Syntax error, ',' expected\r\n",
      "(11,66): error CS1003: Syntax error, ',' expected\r\n",
      "(11,71): error CS1002: ; expected\r\n",
      "(11,83): error CS1002: ; expected\r\n",
      "(12,12): error CS1001: Identifier expected\r\n",
      "(12,26): error CS1002: ; expected\r\n",
      "(13,29): error CS1002: ; expected\r\n",
      "(14,10): error CS1002: ; expected\r\n",
      "(14,22): error CS1002: ; expected\r\n",
      "(15,10): error CS0650: Bad array declarator: To declare a managed array the rank specifier precedes the variable's identifier. To declare a fixed size buffer field, use the fixed keyword before the field type.\r\n",
      "(15,11): error CS0270: Array size cannot be specified in a variable declaration (try initializing with a 'new' expression)"
     ]
    }
   ],
   "source": [
    "-- user\n",
    "DECLARE @UserName NVARCHAR(100);\n",
    "SET @UserName = 'Marie Hall'; -- Change this\n",
    "\n",
    "-- Yearly reviews\n",
    "SELECT\n",
    "    YEAR([Date]) AS [Year],\n",
    "    SUM(CASE WHEN TransactionType = 'income' THEN Amount ELSE 0 END) AS TotalIncome,\n",
    "    -SUM(CASE WHEN TransactionType = 'expense' THEN Amount ELSE 0 END) AS TotalExpense,\n",
    "    SUM(CASE WHEN TransactionType = 'income' THEN Amount ELSE 0 END) -\n",
    "    SUM(CASE WHEN TransactionType = 'expense' THEN Amount ELSE 0 END) AS NetAmount\n",
    "FROM [dbo].[Transactions]\n",
    "WHERE PersonName = @UserName\n",
    "GROUP BY YEAR([Date])\n",
    "ORDER BY [Year];"
   ]
  }
 ],
 "metadata": {
  "kernelspec": {
   "display_name": ".NET (C#)",
   "language": "C#",
   "name": ".net-csharp"
  },
  "language_info": {
   "name": "polyglot-notebook"
  },
  "polyglot_notebook": {
   "kernelInfo": {
    "defaultKernelName": "csharp",
    "items": [
     {
      "aliases": [],
      "name": "csharp"
     }
    ]
   }
  }
 },
 "nbformat": 4,
 "nbformat_minor": 5
}
